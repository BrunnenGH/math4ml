{
  "cells": [
    {
      "cell_type": "code",
      "execution_count": null,
      "metadata": {},
      "outputs": [],
      "source": [
        "# \ud83d\udce6 Instalace knihoven (spus\u0165 jen jednou, pokud nejsou nainstalov\u00e1ny)\n",
        "# !pip install seaborn scikit-learn pandas matplotlib"
      ]
    },
    {
      "cell_type": "code",
      "execution_count": null,
      "metadata": {},
      "outputs": [],
      "source": [
        "import seaborn as sns\n",
        "import matplotlib.pyplot as plt\n",
        "from sklearn.datasets import load_iris\n",
        "from sklearn.decomposition import PCA\n",
        "import pandas as pd"
      ]
    },
    {
      "cell_type": "code",
      "execution_count": null,
      "metadata": {},
      "outputs": [],
      "source": [
        "iris = load_iris()\n",
        "X = iris.data\n",
        "y = iris.target\n",
        "target_names = iris.target_names"
      ]
    },
    {
      "cell_type": "code",
      "execution_count": null,
      "metadata": {},
      "outputs": [],
      "source": [
        "pca = PCA(n_components=2)\n",
        "X_pca = pca.fit_transform(X)\n",
        "\n",
        "df_pca = pd.DataFrame(data=X_pca, columns=[\"PC1\", \"PC2\"])\n",
        "df_pca[\"target\"] = y\n",
        "df_pca[\"target_name\"] = df_pca[\"target\"].map(lambda i: target_names[i])"
      ]
    },
    {
      "cell_type": "code",
      "execution_count": null,
      "metadata": {},
      "outputs": [],
      "source": [
        "plt.figure(figsize=(8, 6))\n",
        "sns.scatterplot(\n",
        "    data=df_pca, x=\"PC1\", y=\"PC2\", hue=\"target_name\",\n",
        "    palette=\"Set2\", s=80, edgecolor='black'\n",
        ")\n",
        "plt.title(\"PCA vizualizace \u2013 Iris dataset\")\n",
        "plt.xlabel(\"Hlavn\u00ed komponenta 1\")\n",
        "plt.ylabel(\"Hlavn\u00ed komponenta 2\")\n",
        "plt.legend(title=\"Druh kv\u011btiny\")\n",
        "plt.grid(True)\n",
        "plt.show()"
      ]
    }
  ],
  "metadata": {
    "kernelspec": {
      "display_name": "Python 3",
      "language": "python",
      "name": "python3"
    },
    "language_info": {
      "name": "python",
      "version": "3.10"
    }
  },
  "nbformat": 4,
  "nbformat_minor": 2
}